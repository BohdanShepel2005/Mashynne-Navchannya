{
  "nbformat": 4,
  "nbformat_minor": 0,
  "metadata": {
    "colab": {
      "provenance": [],
      "gpuType": "T4",
      "include_colab_link": true
    },
    "kernelspec": {
      "name": "python3",
      "display_name": "Python 3"
    },
    "language_info": {
      "name": "python"
    },
    "accelerator": "GPU"
  },
  "cells": [
    {
      "cell_type": "markdown",
      "metadata": {
        "id": "view-in-github",
        "colab_type": "text"
      },
      "source": [
        "<a href=\"https://colab.research.google.com/github/BohdanShepel2005/Mashynne-Navchannya/blob/main/%D0%9B%D0%B0%D0%B1%D0%BE%D1%80%D0%B0%D1%82%D0%BE%D1%80%D0%BD%D0%B0_%E2%84%967_%D0%B7_%D0%9C%D0%9D_%D0%A8%D0%B5%D0%BF%D0%B5%D0%BB%D1%8C_%D0%91_%D0%A1.ipynb\" target=\"_parent\"><img src=\"https://colab.research.google.com/assets/colab-badge.svg\" alt=\"Open In Colab\"/></a>"
      ]
    },
    {
      "cell_type": "code",
      "source": [
        "!pip install numpy numpy==1.26.4\n",
        "!pip install surprise"
      ],
      "metadata": {
        "colab": {
          "base_uri": "https://localhost:8080/"
        },
        "id": "mJ43_B2W1Oxh",
        "outputId": "31c486a3-d398-4a3d-c1cb-cfd84a27f062"
      },
      "execution_count": 1,
      "outputs": [
        {
          "output_type": "stream",
          "name": "stdout",
          "text": [
            "Requirement already satisfied: numpy in /usr/local/lib/python3.11/dist-packages (1.26.4)\n",
            "Requirement already satisfied: surprise in /usr/local/lib/python3.11/dist-packages (0.1)\n",
            "Requirement already satisfied: scikit-surprise in /usr/local/lib/python3.11/dist-packages (from surprise) (1.1.4)\n",
            "Requirement already satisfied: joblib>=1.2.0 in /usr/local/lib/python3.11/dist-packages (from scikit-surprise->surprise) (1.4.2)\n",
            "Requirement already satisfied: numpy>=1.19.5 in /usr/local/lib/python3.11/dist-packages (from scikit-surprise->surprise) (1.26.4)\n",
            "Requirement already satisfied: scipy>=1.6.0 in /usr/local/lib/python3.11/dist-packages (from scikit-surprise->surprise) (1.15.2)\n"
          ]
        }
      ]
    },
    {
      "cell_type": "markdown",
      "source": [
        "1. Доцільна реалізація"
      ],
      "metadata": {
        "id": "iW4By7HyS3TP"
      }
    },
    {
      "cell_type": "code",
      "source": [
        "from surprise import Dataset, Reader\n",
        "from surprise import SVD, KNNBasic\n",
        "from surprise.model_selection import cross_validate, GridSearchCV\n",
        "from surprise import accuracy\n",
        "from surprise.model_selection import train_test_split"
      ],
      "metadata": {
        "id": "NXUFjNxTQczV"
      },
      "execution_count": 2,
      "outputs": []
    },
    {
      "cell_type": "code",
      "source": [
        "data = Dataset.load_builtin('ml-100k')\n",
        "\n",
        "print(\"Перші 5 рядків датасету:\")\n",
        "for row in data.raw_ratings[:5]:\n",
        "    print(row)"
      ],
      "metadata": {
        "colab": {
          "base_uri": "https://localhost:8080/"
        },
        "id": "xu_ywRpeJzmA",
        "outputId": "d65fc879-a542-4ef9-cea5-a78fc6365268"
      },
      "execution_count": 3,
      "outputs": [
        {
          "output_type": "stream",
          "name": "stdout",
          "text": [
            "Dataset ml-100k could not be found. Do you want to download it? [Y/n] y\n",
            "Trying to download dataset from https://files.grouplens.org/datasets/movielens/ml-100k.zip...\n",
            "Done! Dataset ml-100k has been saved to /root/.surprise_data/ml-100k\n",
            "Перші 5 рядків датасету:\n",
            "('196', '242', 3.0, '881250949')\n",
            "('186', '302', 3.0, '891717742')\n",
            "('22', '377', 1.0, '878887116')\n",
            "('244', '51', 2.0, '880606923')\n",
            "('166', '346', 1.0, '886397596')\n"
          ]
        }
      ]
    },
    {
      "cell_type": "code",
      "source": [
        "data = Dataset.load_builtin('ml-100k')\n",
        "\n",
        "print(\"Перші 5 рядків датасету з поясненням:\")\n",
        "for row in data.raw_ratings[:5]:\n",
        "    user_id, movie_id, rating, timestamp = row\n",
        "    print(f\"Користувач {user_id} оцінив фільм {movie_id} на {rating} балів (часова позначка: {timestamp})\")\n"
      ],
      "metadata": {
        "id": "5xnrdPjQLR61",
        "colab": {
          "base_uri": "https://localhost:8080/"
        },
        "outputId": "5acd666c-09a5-4036-e1d0-8fc99986492a"
      },
      "execution_count": 4,
      "outputs": [
        {
          "output_type": "stream",
          "name": "stdout",
          "text": [
            "Перші 5 рядків датасету з поясненням:\n",
            "Користувач 196 оцінив фільм 242 на 3.0 балів (часова позначка: 881250949)\n",
            "Користувач 186 оцінив фільм 302 на 3.0 балів (часова позначка: 891717742)\n",
            "Користувач 22 оцінив фільм 377 на 1.0 балів (часова позначка: 878887116)\n",
            "Користувач 244 оцінив фільм 51 на 2.0 балів (часова позначка: 880606923)\n",
            "Користувач 166 оцінив фільм 346 на 1.0 балів (часова позначка: 886397596)\n"
          ]
        }
      ]
    },
    {
      "cell_type": "code",
      "source": [
        "trainset, testset = train_test_split(data, test_size=0.2)\n",
        "\n",
        "# Параметри для підбору через GridSearchCV для SVD\n",
        "param_grid_svd = {\n",
        "    'n_factors': [50, 100],\n",
        "    'lr_all': [0.005, 0.010],\n",
        "    'reg_all': [0.02, 0.05]\n",
        "}\n",
        "\n",
        "# Параметри для підбору через GridSearchCV для KNNBasic\n",
        "param_grid_knn = {\n",
        "    'k': [20, 40],\n",
        "    'min_k': [1, 5],\n",
        "    'sim_options': {\n",
        "        'name': ['cosine', 'pearson'],\n",
        "        'user_based': [False, True]\n",
        "    }\n",
        "}\n",
        "\n",
        "grid_search_svd = GridSearchCV(SVD, param_grid_svd, measures=['rmse', 'mae'], cv=3)\n",
        "grid_search_svd.fit(data)\n",
        "\n",
        "grid_search_knn = GridSearchCV(KNNBasic, param_grid_knn, measures=['rmse', 'mae'], cv=3)\n",
        "grid_search_knn.fit(data)\n",
        "\n"
      ],
      "metadata": {
        "id": "2CQ8jffpJ6Nv",
        "colab": {
          "base_uri": "https://localhost:8080/"
        },
        "outputId": "1573c313-b1db-4bc3-a28c-d8d34192509e"
      },
      "execution_count": 5,
      "outputs": [
        {
          "output_type": "stream",
          "name": "stdout",
          "text": [
            "Computing the cosine similarity matrix...\n",
            "Done computing similarity matrix.\n",
            "Computing the cosine similarity matrix...\n",
            "Done computing similarity matrix.\n",
            "Computing the cosine similarity matrix...\n",
            "Done computing similarity matrix.\n",
            "Computing the cosine similarity matrix...\n",
            "Done computing similarity matrix.\n",
            "Computing the cosine similarity matrix...\n",
            "Done computing similarity matrix.\n",
            "Computing the cosine similarity matrix...\n",
            "Done computing similarity matrix.\n",
            "Computing the pearson similarity matrix...\n",
            "Done computing similarity matrix.\n",
            "Computing the pearson similarity matrix...\n",
            "Done computing similarity matrix.\n",
            "Computing the pearson similarity matrix...\n",
            "Done computing similarity matrix.\n",
            "Computing the pearson similarity matrix...\n",
            "Done computing similarity matrix.\n",
            "Computing the pearson similarity matrix...\n",
            "Done computing similarity matrix.\n",
            "Computing the pearson similarity matrix...\n",
            "Done computing similarity matrix.\n",
            "Computing the cosine similarity matrix...\n",
            "Done computing similarity matrix.\n",
            "Computing the cosine similarity matrix...\n",
            "Done computing similarity matrix.\n",
            "Computing the cosine similarity matrix...\n",
            "Done computing similarity matrix.\n",
            "Computing the cosine similarity matrix...\n",
            "Done computing similarity matrix.\n",
            "Computing the cosine similarity matrix...\n",
            "Done computing similarity matrix.\n",
            "Computing the cosine similarity matrix...\n",
            "Done computing similarity matrix.\n",
            "Computing the pearson similarity matrix...\n",
            "Done computing similarity matrix.\n",
            "Computing the pearson similarity matrix...\n",
            "Done computing similarity matrix.\n",
            "Computing the pearson similarity matrix...\n",
            "Done computing similarity matrix.\n",
            "Computing the pearson similarity matrix...\n",
            "Done computing similarity matrix.\n",
            "Computing the pearson similarity matrix...\n",
            "Done computing similarity matrix.\n",
            "Computing the pearson similarity matrix...\n",
            "Done computing similarity matrix.\n",
            "Computing the cosine similarity matrix...\n",
            "Done computing similarity matrix.\n",
            "Computing the cosine similarity matrix...\n",
            "Done computing similarity matrix.\n",
            "Computing the cosine similarity matrix...\n",
            "Done computing similarity matrix.\n",
            "Computing the cosine similarity matrix...\n",
            "Done computing similarity matrix.\n",
            "Computing the cosine similarity matrix...\n",
            "Done computing similarity matrix.\n",
            "Computing the cosine similarity matrix...\n",
            "Done computing similarity matrix.\n",
            "Computing the pearson similarity matrix...\n",
            "Done computing similarity matrix.\n",
            "Computing the pearson similarity matrix...\n",
            "Done computing similarity matrix.\n",
            "Computing the pearson similarity matrix...\n",
            "Done computing similarity matrix.\n",
            "Computing the pearson similarity matrix...\n",
            "Done computing similarity matrix.\n",
            "Computing the pearson similarity matrix...\n",
            "Done computing similarity matrix.\n",
            "Computing the pearson similarity matrix...\n",
            "Done computing similarity matrix.\n",
            "Computing the cosine similarity matrix...\n",
            "Done computing similarity matrix.\n",
            "Computing the cosine similarity matrix...\n",
            "Done computing similarity matrix.\n",
            "Computing the cosine similarity matrix...\n",
            "Done computing similarity matrix.\n",
            "Computing the cosine similarity matrix...\n",
            "Done computing similarity matrix.\n",
            "Computing the cosine similarity matrix...\n",
            "Done computing similarity matrix.\n",
            "Computing the cosine similarity matrix...\n",
            "Done computing similarity matrix.\n",
            "Computing the pearson similarity matrix...\n",
            "Done computing similarity matrix.\n",
            "Computing the pearson similarity matrix...\n",
            "Done computing similarity matrix.\n",
            "Computing the pearson similarity matrix...\n",
            "Done computing similarity matrix.\n",
            "Computing the pearson similarity matrix...\n",
            "Done computing similarity matrix.\n",
            "Computing the pearson similarity matrix...\n",
            "Done computing similarity matrix.\n",
            "Computing the pearson similarity matrix...\n",
            "Done computing similarity matrix.\n"
          ]
        }
      ]
    },
    {
      "cell_type": "code",
      "source": [
        "best_svd = grid_search_svd.best_estimator['mae']\n",
        "best_knn = grid_search_knn.best_estimator['mae']\n",
        "\n",
        "print(f\"Найкращий MAE для SVD: {grid_search_svd.best_score['mae']}\")\n",
        "print(f\"Найкращий MAE для KNNBasic: {grid_search_knn.best_score['mae']}\")\n",
        "\n",
        "# Вибір моделі з найменшим MAE\n",
        "if grid_search_svd.best_score['mae'] < grid_search_knn.best_score['mae']:\n",
        "    best_model = best_svd\n",
        "    print(\"Вибраний алгоритм: SVD\")\n",
        "else:\n",
        "    best_model = best_knn\n",
        "    print(\"Вибраний алгоритм: KNNBasic\")\n",
        "\n"
      ],
      "metadata": {
        "id": "0Ul2_GyIKBXB",
        "colab": {
          "base_uri": "https://localhost:8080/"
        },
        "outputId": "441c94a5-aa57-475c-9eb9-3dda59fe89de"
      },
      "execution_count": 6,
      "outputs": [
        {
          "output_type": "stream",
          "name": "stdout",
          "text": [
            "Найкращий MAE для SVD: 0.7338818154874348\n",
            "Найкращий MAE для KNNBasic: 0.8093711840825345\n",
            "Вибраний алгоритм: SVD\n"
          ]
        }
      ]
    },
    {
      "cell_type": "code",
      "source": [
        "\n",
        "best_model.fit(trainset)\n",
        "\n",
        "# Виведення рекомендацій для конкретного користувача\n",
        "user_id = str(196)  # ID користувача для якого ми хочемо отримати рекомендації\n",
        "user_ratings = trainset.ur[trainset.to_inner_uid(user_id)]\n",
        "print(f\"Кількість рецензій користувача {user_id}: {len(user_ratings)}\")\n",
        "\n",
        "# Отримання рекомендацій\n",
        "all_items = set(trainset.all_items())\n",
        "rated_items = set([item for (item, _) in user_ratings])\n",
        "unrated_items = all_items - rated_items\n",
        "\n",
        "# Прогнозування рейтингів для нерецензованих фільмів\n",
        "predictions = [(item, best_model.predict(user_id, trainset.to_raw_iid(item)).est) for item in unrated_items]\n",
        "predictions.sort(key=lambda x: x[1], reverse=True)\n",
        "\n",
        "# Виведення 10 найкращих фільмів\n",
        "print(\"Топ-10 фільмів, рекомендованих для користувача:\")\n",
        "for item_id, rating in predictions[:10]:\n",
        "    print(f\"Фільм {trainset.to_raw_iid(item_id)} з прогнозованим рейтингом {rating:.2f}\")"
      ],
      "metadata": {
        "id": "oTH1UR8mKIX_",
        "colab": {
          "base_uri": "https://localhost:8080/"
        },
        "outputId": "f44a6eeb-a76a-44e6-c568-3eb14f7be38e"
      },
      "execution_count": 7,
      "outputs": [
        {
          "output_type": "stream",
          "name": "stdout",
          "text": [
            "Кількість рецензій користувача 196: 33\n",
            "Топ-10 фільмів, рекомендованих для користувача:\n",
            "Фільм 515 з прогнозованим рейтингом 4.57\n",
            "Фільм 923 з прогнозованим рейтингом 4.56\n",
            "Фільм 272 з прогнозованим рейтингом 4.52\n",
            "Фільм 1194 з прогнозованим рейтингом 4.47\n",
            "Фільм 318 з прогнозованим рейтингом 4.47\n",
            "Фільм 178 з прогнозованим рейтингом 4.47\n",
            "Фільм 408 з прогнозованим рейтингом 4.47\n",
            "Фільм 169 з прогнозованим рейтингом 4.44\n",
            "Фільм 316 з прогнозованим рейтингом 4.42\n",
            "Фільм 64 з прогнозованим рейтингом 4.41\n"
          ]
        }
      ]
    }
  ]
}